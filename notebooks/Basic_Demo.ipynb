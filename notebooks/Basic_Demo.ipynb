{
 "cells": [
  {
   "cell_type": "code",
   "execution_count": 1,
   "id": "c8077fd1",
   "metadata": {
    "ExecuteTime": {
     "end_time": "2023-03-07T18:50:08.534849Z",
     "start_time": "2023-03-07T18:50:08.508842Z"
    }
   },
   "outputs": [],
   "source": [
    "%load_ext autoreload\n",
    "%autoreload 2"
   ]
  },
  {
   "cell_type": "code",
   "execution_count": 2,
   "id": "15c34696",
   "metadata": {
    "ExecuteTime": {
     "end_time": "2023-03-07T18:50:10.025864Z",
     "start_time": "2023-03-07T18:50:08.537099Z"
    }
   },
   "outputs": [],
   "source": [
    "from s1_frame_enumerator import (get_s1_stack, \n",
    "                                 filter_s1_stack_by_geometric_coverage_per_pass, \n",
    "                                 get_global_s1_frames, \n",
    "                                 get_overlapping_s1_frames, \n",
    "                                 enumerate_dates, \n",
    "                                 frames2gdf, \n",
    "                                 enumerate_gunw_time_series)\n",
    "from shapely.geometry import Point\n",
    "import geopandas as gpd\n",
    "from rasterio.crs import CRS\n",
    "import matplotlib.pyplot as plt\n",
    "import warnings\n",
    "import json\n",
    "import pandas as pd\n",
    "import datetime"
   ]
  },
  {
   "cell_type": "markdown",
   "id": "e1251a6b",
   "metadata": {},
   "source": [
    "This notebook illustrates how to extract a list of SLC images for interferograms associated to fixed frame enumeration. Here \"fixed frames\" simply means that the frames were generated based on the ESA burst map and they *do not change in time*. They consist of 10 contiguous bursts and overlap with adjacent frames with 2 bursts. Only frames that intersect the Natural Earth land geometry are kept. More details can be found at this [repo](https://github.com/ACCESS-Cloud-Based-InSAR/s1-frame-generation) in regards to how the frames were genreated. \n",
    "\n",
    "The challenge with enumarating SLC imagery for interferograms using the ESA imagery (as it is distributed) is that the frames are not constant in time therefore determining the inteferogram extents becomes an accounting nightmare quickly. This \"fixed frame\" approach circumvents this problem by collecting all imagery that covers a given fixed frame and submits that to processing (along with its region of interest).\n",
    "\n",
    "There are some steps to each of this.\n",
    "\n",
    "1. Get tracks (aka relative orbit numbers or path numbers) from AOI - this is manual/user selection\n",
    "2. Get fixed frames from input AOI and selected track\n",
    "3. Extract all viable imagery for a stack - the stack ensures each pass is completely covered\n",
    "4. Enumerate SLC imagery for interferograms\n",
    "\n",
    "# Get track number(s) for inteferogram genration from AOI\n",
    "\n",
    "Inteferograms require the same viewing geometry so really only one track is acceptable. We only accept 1 track number except if we are at the equator and the track number gets incremented (for ESA accounting purposes), therefore a frame has two (sequential) tracks that it tracks. Selecting an AOI over the central coast of CA."
   ]
  },
  {
   "cell_type": "code",
   "execution_count": 3,
   "id": "b5f7bf00",
   "metadata": {
    "ExecuteTime": {
     "end_time": "2023-03-07T18:50:10.067429Z",
     "start_time": "2023-03-07T18:50:10.027761Z"
    }
   },
   "outputs": [],
   "source": [
    "aoi_geo = Point(-120, 35).buffer(1)\n",
    "\n",
    "df_aoi = gpd.GeoDataFrame(geometry=[aoi_geo], crs=CRS.from_epsg(4326))"
   ]
  },
  {
   "cell_type": "code",
   "execution_count": 4,
   "id": "836a65cf",
   "metadata": {
    "ExecuteTime": {
     "end_time": "2023-03-07T18:50:13.874182Z",
     "start_time": "2023-03-07T18:50:10.070012Z"
    }
   },
   "outputs": [
    {
     "data": {
      "text/html": [
       "<div>\n",
       "<style scoped>\n",
       "    .dataframe tbody tr th:only-of-type {\n",
       "        vertical-align: middle;\n",
       "    }\n",
       "\n",
       "    .dataframe tbody tr th {\n",
       "        vertical-align: top;\n",
       "    }\n",
       "\n",
       "    .dataframe thead th {\n",
       "        text-align: right;\n",
       "    }\n",
       "</style>\n",
       "<table border=\"1\" class=\"dataframe\">\n",
       "  <thead>\n",
       "    <tr style=\"text-align: right;\">\n",
       "      <th></th>\n",
       "      <th>frame_id</th>\n",
       "      <th>track_number_min</th>\n",
       "      <th>track_number_max</th>\n",
       "      <th>geometry</th>\n",
       "    </tr>\n",
       "  </thead>\n",
       "  <tbody>\n",
       "    <tr>\n",
       "      <th>0</th>\n",
       "      <td>5285</td>\n",
       "      <td>35</td>\n",
       "      <td>35</td>\n",
       "      <td>POLYGON Z ((-122.73930 33.01088 0.00000, -122....</td>\n",
       "    </tr>\n",
       "    <tr>\n",
       "      <th>1</th>\n",
       "      <td>5286</td>\n",
       "      <td>35</td>\n",
       "      <td>35</td>\n",
       "      <td>POLYGON Z ((-123.00511 34.17223 0.00000, -123....</td>\n",
       "    </tr>\n",
       "    <tr>\n",
       "      <th>2</th>\n",
       "      <td>5287</td>\n",
       "      <td>35</td>\n",
       "      <td>35</td>\n",
       "      <td>POLYGON Z ((-123.28214 35.34912 0.00000, -123....</td>\n",
       "    </tr>\n",
       "    <tr>\n",
       "      <th>3</th>\n",
       "      <td>6452</td>\n",
       "      <td>42</td>\n",
       "      <td>42</td>\n",
       "      <td>POLYGON Z ((-122.94671 35.59990 0.00000, -122....</td>\n",
       "    </tr>\n",
       "    <tr>\n",
       "      <th>4</th>\n",
       "      <td>6453</td>\n",
       "      <td>42</td>\n",
       "      <td>42</td>\n",
       "      <td>POLYGON Z ((-123.17840 34.43885 0.00000, -123....</td>\n",
       "    </tr>\n",
       "  </tbody>\n",
       "</table>\n",
       "</div>"
      ],
      "text/plain": [
       "   frame_id  track_number_min  track_number_max  \\\n",
       "0      5285                35                35   \n",
       "1      5286                35                35   \n",
       "2      5287                35                35   \n",
       "3      6452                42                42   \n",
       "4      6453                42                42   \n",
       "\n",
       "                                            geometry  \n",
       "0  POLYGON Z ((-122.73930 33.01088 0.00000, -122....  \n",
       "1  POLYGON Z ((-123.00511 34.17223 0.00000, -123....  \n",
       "2  POLYGON Z ((-123.28214 35.34912 0.00000, -123....  \n",
       "3  POLYGON Z ((-122.94671 35.59990 0.00000, -122....  \n",
       "4  POLYGON Z ((-123.17840 34.43885 0.00000, -123....  "
      ]
     },
     "execution_count": 4,
     "metadata": {},
     "output_type": "execute_result"
    }
   ],
   "source": [
    "frames_all = get_overlapping_s1_frames(aoi_geo)\n",
    "df_frames_all = frames2gdf(frames_all)\n",
    "df_frames_all.head()"
   ]
  },
  {
   "cell_type": "code",
   "execution_count": 5,
   "id": "961254f8",
   "metadata": {
    "ExecuteTime": {
     "end_time": "2023-03-07T18:50:14.274549Z",
     "start_time": "2023-03-07T18:50:13.875673Z"
    }
   },
   "outputs": [
    {
     "data": {
      "text/plain": [
       "(31.862802456930623, 38.08037985774235)"
      ]
     },
     "execution_count": 5,
     "metadata": {},
     "output_type": "execute_result"
    },
    {
     "data": {
      "image/png": "[encoded data removed]",
      "text/plain": [
       "<Figure size 640x480 with 1 Axes>"
      ]
     },
     "metadata": {},
     "output_type": "display_data"
    }
   ],
   "source": [
    "fig, ax = plt.subplots()\n",
    "df_world = gpd.read_file(gpd.datasets.get_path('naturalearth_lowres'))\n",
    "df_world.boundary.plot(ax=ax)\n",
    "df_frames_by_track = df_frames_all.dissolve(by='track_number_min').reset_index(drop=False)\n",
    "df_frames_by_track.plot(ax=ax, \n",
    "                        column='track_number_min',\n",
    "                        categorical=True,\n",
    "                        alpha=.25, \n",
    "                        legend=True)\n",
    "df_aoi.plot(ax=ax)\n",
    "xmin, ymin, xmax, ymax = df_frames_by_track.total_bounds\n",
    "ax.set_xlim(xmin - 1, xmax + 1)\n",
    "ax.set_ylim(ymin - 1, ymax + 1)"
   ]
  },
  {
   "cell_type": "code",
   "execution_count": 6,
   "id": "7cfb6fce",
   "metadata": {
    "ExecuteTime": {
     "end_time": "2023-03-07T18:50:14.659880Z",
     "start_time": "2023-03-07T18:50:14.276453Z"
    }
   },
   "outputs": [
    {
     "data": {
      "text/plain": [
       "(31.862802456930623, 38.08037985774235)"
      ]
     },
     "execution_count": 6,
     "metadata": {},
     "output_type": "execute_result"
    },
    {
     "data": {
      "image/png": "[encoded data removed]",
      "text/plain": [
       "<Figure size 1000x1000 with 1 Axes>"
      ]
     },
     "metadata": {},
     "output_type": "display_data"
    }
   ],
   "source": [
    "fig, ax = plt.subplots(figsize=(10, 10))\n",
    "df_world = gpd.read_file(gpd.datasets.get_path('naturalearth_lowres'))\n",
    "df_world.boundary.plot(ax=ax)\n",
    "df_frames_all.plot(ax=ax, \n",
    "                        #column='track_numbers', \n",
    "                        alpha=.25, \n",
    "                        legend=True)\n",
    "xmin, ymin, xmax, ymax = df_frames_by_track.total_bounds\n",
    "ax.set_xlim(xmin - 1, xmax + 1)\n",
    "ax.set_ylim(ymin - 1, ymax + 1)"
   ]
  },
  {
   "cell_type": "markdown",
   "id": "64177289",
   "metadata": {},
   "source": [
    "# Get Frames from AOI and selected track\n",
    "\n",
    "We *manually* select a track - could skip right to this point if we knew the AOI and track had overlap."
   ]
  },
  {
   "cell_type": "code",
   "execution_count": 7,
   "id": "03f3323e",
   "metadata": {
    "ExecuteTime": {
     "end_time": "2023-03-07T18:50:14.704787Z",
     "start_time": "2023-03-07T18:50:14.661767Z"
    }
   },
   "outputs": [
    {
     "data": {
      "text/plain": [
       "[S1Frame(frame_id=22439, track_numbers=[144], frame_geometry=<POLYGON Z ((-121.034 34.871 0, -121.037 34.871 0, -120.807 36.008 0, -117.9...>, use_natural_earth_land_mask=True, coverage_geometry=<POLYGON Z ((-120.807 36.008 0, -117.967 36.008 0, -117.98 35.951 0, -117.97...>),\n",
       " S1Frame(frame_id=22440, track_numbers=[144], frame_geometry=<POLYGON Z ((-121.267 33.71 0, -121.039 34.846 0, -118.239 34.846 0, -118.33...>, use_natural_earth_land_mask=True, coverage_geometry=<POLYGON Z ((-118.239 34.846 0, -118.33 34.457 0, -118.327 34.456 0, -118.46...>)]"
      ]
     },
     "execution_count": 7,
     "metadata": {},
     "output_type": "execute_result"
    }
   ],
   "source": [
    "track_numbers = [144]\n",
    "frames = get_overlapping_s1_frames(aoi_geo, track_numbers=track_numbers)\n",
    "frames"
   ]
  },
  {
   "cell_type": "code",
   "execution_count": 8,
   "id": "20a7beea",
   "metadata": {
    "ExecuteTime": {
     "end_time": "2023-03-07T18:50:24.532421Z",
     "start_time": "2023-03-07T18:50:14.706412Z"
    }
   },
   "outputs": [],
   "source": [
    "from s1_frame_enumerator.s1_frames import get_global_gunw_footprints\n",
    "\n",
    "df_gunw = get_global_gunw_footprints()"
   ]
  },
  {
   "cell_type": "code",
   "execution_count": 9,
   "id": "cc374aac",
   "metadata": {
    "ExecuteTime": {
     "end_time": "2023-03-07T18:50:24.790522Z",
     "start_time": "2023-03-07T18:50:24.534051Z"
    }
   },
   "outputs": [
    {
     "data": {
      "text/plain": [
       "<Axes: >"
      ]
     },
     "execution_count": 9,
     "metadata": {},
     "output_type": "execute_result"
    },
    {
     "data": {
      "image/png": "[encoded data removed]",
      "text/plain": [
       "<Figure size 640x480 with 1 Axes>"
      ]
     },
     "metadata": {},
     "output_type": "display_data"
    }
   ],
   "source": [
    "fig, ax = plt.subplots()\n",
    "\n",
    "df_aoi.plot(ax=ax)\n",
    "df_overlapping_frames = frames2gdf(frames)\n",
    "df_overlapping_frames.plot(column='frame_id', alpha=.5, ax=ax)\n",
    "\n",
    "df_footprints_gunw = df_gunw[df_gunw.frame_id.isin(df_overlapping_frames.frame_id.tolist())].reset_index(drop=True)\n",
    "df_footprints_gunw.geometry = df_footprints_gunw.geometry.boundary\n",
    "df_footprints_gunw.plot(column='frame_id', alpha=1, ax=ax)"
   ]
  },
  {
   "cell_type": "markdown",
   "id": "5134aded",
   "metadata": {},
   "source": [
    "# Get Stack from Frame\n",
    "\n",
    "Here a stack is a list of images with metadata and extents. We note the stack here is not arbitrarily constructed and at some point might be nice to create a simple class to encapsulate it. However, here a stack is one that can be organized to do interferometry over the frames.\n",
    "\n",
    "1. Per frame coverage $\\geq 99$% as it pertains to the frame's coverage geometry\n",
    "2. Contiguous coverage through frames (determined as Polygon object)\n",
    "\n",
    "Requires:\n",
    "\n",
    "1. Frames to be contiguous (otherwise 2. does not make sense)\n",
    "2. Requires single track or two sequential tracks (we only check if the track numbers are sequential)"
   ]
  },
  {
   "cell_type": "code",
   "execution_count": 10,
   "id": "ad6f4c77",
   "metadata": {
    "ExecuteTime": {
     "end_time": "2023-03-07T18:50:56.146915Z",
     "start_time": "2023-03-07T18:50:24.793972Z"
    }
   },
   "outputs": [
    {
     "name": "stderr",
     "output_type": "stream",
     "text": [
      "Downloading stack from 2 frame geometries: 10\n"
     ]
    },
    {
     "data": {
      "text/html": [
       "<div>\n",
       "<style scoped>\n",
       "    .dataframe tbody tr th:only-of-type {\n",
       "        vertical-align: middle;\n",
       "    }\n",
       "\n",
       "    .dataframe tbody tr th {\n",
       "        vertical-align: top;\n",
       "    }\n",
       "\n",
       "    .dataframe thead th {\n",
       "        text-align: right;\n",
       "    }\n",
       "</style>\n",
       "<table border=\"1\" class=\"dataframe\">\n",
       "  <thead>\n",
       "    <tr style=\"text-align: right;\">\n",
       "      <th></th>\n",
       "      <th>slc_id</th>\n",
       "      <th>start_time</th>\n",
       "      <th>stop_time</th>\n",
       "      <th>url</th>\n",
       "      <th>track_number</th>\n",
       "      <th>polarization</th>\n",
       "      <th>orbit</th>\n",
       "      <th>beam_mode</th>\n",
       "      <th>size_gb</th>\n",
       "      <th>stack_repeat_pass_id</th>\n",
       "      <th>repeat_pass_date</th>\n",
       "      <th>geometry</th>\n",
       "    </tr>\n",
       "  </thead>\n",
       "  <tbody>\n",
       "    <tr>\n",
       "      <th>0</th>\n",
       "      <td>S1A_IW_SLC__1SSV_20150519T135922_20150519T1359...</td>\n",
       "      <td>2015-05-19 13:59:22+00:00</td>\n",
       "      <td>2015-05-19 13:59:49+00:00</td>\n",
       "      <td>https://datapool.asf.alaska.edu/SLC/SA/S1A_IW_...</td>\n",
       "      <td>144</td>\n",
       "      <td>VV</td>\n",
       "      <td>5991</td>\n",
       "      <td>IW</td>\n",
       "      <td>2.474112</td>\n",
       "      <td>9</td>\n",
       "      <td>2015-05-19</td>\n",
       "      <td>POLYGON ((-118.03455 35.87319, -117.64374 37.4...</td>\n",
       "    </tr>\n",
       "    <tr>\n",
       "      <th>1</th>\n",
       "      <td>S1A_IW_SLC__1SSV_20150519T135947_20150519T1400...</td>\n",
       "      <td>2015-05-19 13:59:47+00:00</td>\n",
       "      <td>2015-05-19 14:00:14+00:00</td>\n",
       "      <td>https://datapool.asf.alaska.edu/SLC/SA/S1A_IW_...</td>\n",
       "      <td>144</td>\n",
       "      <td>VV</td>\n",
       "      <td>5991</td>\n",
       "      <td>IW</td>\n",
       "      <td>2.482766</td>\n",
       "      <td>9</td>\n",
       "      <td>2015-05-19</td>\n",
       "      <td>POLYGON ((-118.37766 34.31689, -117.98006 35.9...</td>\n",
       "    </tr>\n",
       "    <tr>\n",
       "      <th>2</th>\n",
       "      <td>S1A_IW_SLC__1SSV_20150519T140012_20150519T1400...</td>\n",
       "      <td>2015-05-19 14:00:12+00:00</td>\n",
       "      <td>2015-05-19 14:00:39+00:00</td>\n",
       "      <td>https://datapool.asf.alaska.edu/SLC/SA/S1A_IW_...</td>\n",
       "      <td>144</td>\n",
       "      <td>VV</td>\n",
       "      <td>5991</td>\n",
       "      <td>IW</td>\n",
       "      <td>2.279615</td>\n",
       "      <td>9</td>\n",
       "      <td>2015-05-19</td>\n",
       "      <td>POLYGON ((-118.71146 32.81956, -118.33259 34.4...</td>\n",
       "    </tr>\n",
       "    <tr>\n",
       "      <th>3</th>\n",
       "      <td>S1A_IW_SLC__1SSV_20150612T135923_20150612T1359...</td>\n",
       "      <td>2015-06-12 13:59:23+00:00</td>\n",
       "      <td>2015-06-12 13:59:50+00:00</td>\n",
       "      <td>https://datapool.asf.alaska.edu/SLC/SA/S1A_IW_...</td>\n",
       "      <td>144</td>\n",
       "      <td>VV</td>\n",
       "      <td>6341</td>\n",
       "      <td>IW</td>\n",
       "      <td>2.504498</td>\n",
       "      <td>11</td>\n",
       "      <td>2015-06-12</td>\n",
       "      <td>POLYGON ((-118.02811 35.87192, -117.63700 37.4...</td>\n",
       "    </tr>\n",
       "    <tr>\n",
       "      <th>4</th>\n",
       "      <td>S1A_IW_SLC__1SSV_20150612T135948_20150612T1400...</td>\n",
       "      <td>2015-06-12 13:59:48+00:00</td>\n",
       "      <td>2015-06-12 14:00:15+00:00</td>\n",
       "      <td>https://datapool.asf.alaska.edu/SLC/SA/S1A_IW_...</td>\n",
       "      <td>144</td>\n",
       "      <td>VV</td>\n",
       "      <td>6341</td>\n",
       "      <td>IW</td>\n",
       "      <td>2.429534</td>\n",
       "      <td>11</td>\n",
       "      <td>2015-06-12</td>\n",
       "      <td>POLYGON ((-118.35521 34.37390, -117.97107 35.9...</td>\n",
       "    </tr>\n",
       "  </tbody>\n",
       "</table>\n",
       "</div>"
      ],
      "text/plain": [
       "                                              slc_id  \\\n",
       "0  S1A_IW_SLC__1SSV_20150519T135922_20150519T1359...   \n",
       "1  S1A_IW_SLC__1SSV_20150519T135947_20150519T1400...   \n",
       "2  S1A_IW_SLC__1SSV_20150519T140012_20150519T1400...   \n",
       "3  S1A_IW_SLC__1SSV_20150612T135923_20150612T1359...   \n",
       "4  S1A_IW_SLC__1SSV_20150612T135948_20150612T1400...   \n",
       "\n",
       "                 start_time                 stop_time  \\\n",
       "0 2015-05-19 13:59:22+00:00 2015-05-19 13:59:49+00:00   \n",
       "1 2015-05-19 13:59:47+00:00 2015-05-19 14:00:14+00:00   \n",
       "2 2015-05-19 14:00:12+00:00 2015-05-19 14:00:39+00:00   \n",
       "3 2015-06-12 13:59:23+00:00 2015-06-12 13:59:50+00:00   \n",
       "4 2015-06-12 13:59:48+00:00 2015-06-12 14:00:15+00:00   \n",
       "\n",
       "                                                 url  track_number  \\\n",
       "0  https://datapool.asf.alaska.edu/SLC/SA/S1A_IW_...           144   \n",
       "1  https://datapool.asf.alaska.edu/SLC/SA/S1A_IW_...           144   \n",
       "2  https://datapool.asf.alaska.edu/SLC/SA/S1A_IW_...           144   \n",
       "3  https://datapool.asf.alaska.edu/SLC/SA/S1A_IW_...           144   \n",
       "4  https://datapool.asf.alaska.edu/SLC/SA/S1A_IW_...           144   \n",
       "\n",
       "  polarization  orbit beam_mode   size_gb  stack_repeat_pass_id  \\\n",
       "0           VV   5991        IW  2.474112                     9   \n",
       "1           VV   5991        IW  2.482766                     9   \n",
       "2           VV   5991        IW  2.279615                     9   \n",
       "3           VV   6341        IW  2.504498                    11   \n",
       "4           VV   6341        IW  2.429534                    11   \n",
       "\n",
       "  repeat_pass_date                                           geometry  \n",
       "0       2015-05-19  POLYGON ((-118.03455 35.87319, -117.64374 37.4...  \n",
       "1       2015-05-19  POLYGON ((-118.37766 34.31689, -117.98006 35.9...  \n",
       "2       2015-05-19  POLYGON ((-118.71146 32.81956, -118.33259 34.4...  \n",
       "3       2015-06-12  POLYGON ((-118.02811 35.87192, -117.63700 37.4...  \n",
       "4       2015-06-12  POLYGON ((-118.35521 34.37390, -117.97107 35.9...  "
      ]
     },
     "execution_count": 10,
     "metadata": {},
     "output_type": "execute_result"
    }
   ],
   "source": [
    "df_stack = get_s1_stack(frames)\n",
    "df_stack.head()"
   ]
  },
  {
   "cell_type": "code",
   "execution_count": 11,
   "id": "e8c00571",
   "metadata": {
    "ExecuteTime": {
     "end_time": "2023-03-07T18:50:56.186334Z",
     "start_time": "2023-03-07T18:50:56.148821Z"
    }
   },
   "outputs": [
    {
     "data": {
      "text/plain": [
       "(881, 12)"
      ]
     },
     "execution_count": 11,
     "metadata": {},
     "output_type": "execute_result"
    }
   ],
   "source": [
    "df_stack.shape"
   ]
  },
  {
   "cell_type": "markdown",
   "id": "fe432c18",
   "metadata": {},
   "source": [
    "# Generate Pairs\n",
    "\n",
    "Now we generate the frames - most important elements of returned data is:\n",
    "\n",
    "1. SLC Ids of reference and secondary\n",
    "2. Extent of related frames"
   ]
  },
  {
   "cell_type": "code",
   "execution_count": null,
   "id": "597171e2",
   "metadata": {
    "ExecuteTime": {
     "start_time": "2023-03-07T18:51:24.392Z"
    }
   },
   "outputs": [
    {
     "name": "stderr",
     "output_type": "stream",
     "text": [
      "Date Pairs:  34%|▎| 295/879 [00:17<00:36, 16."
     ]
    }
   ],
   "source": [
    "min_temporal_baseline = 30\n",
    "neighbors = 3\n",
    "\n",
    "data = enumerate_gunw_time_series(df_stack, \n",
    "                                  min_temporal_baseline_days=min_temporal_baseline,\n",
    "                                  n_secondary_scenes_per_ref=neighbors,\n",
    "                                  frames=frames\n",
    "                                  )"
   ]
  },
  {
   "cell_type": "code",
   "execution_count": null,
   "id": "5a7fde0a",
   "metadata": {
    "ExecuteTime": {
     "start_time": "2023-03-07T18:51:26.408Z"
    }
   },
   "outputs": [],
   "source": [
    "data[0]"
   ]
  },
  {
   "cell_type": "code",
   "execution_count": null,
   "id": "a63f9444",
   "metadata": {
    "ExecuteTime": {
     "start_time": "2023-03-07T18:51:26.688Z"
    }
   },
   "outputs": [],
   "source": [
    "data[0]['geometry']"
   ]
  },
  {
   "cell_type": "markdown",
   "id": "74a638a1",
   "metadata": {},
   "source": [
    "## Serialize"
   ]
  },
  {
   "cell_type": "code",
   "execution_count": null,
   "id": "39aecd45",
   "metadata": {
    "ExecuteTime": {
     "start_time": "2023-03-07T18:51:27.479Z"
    }
   },
   "outputs": [],
   "source": [
    "def update_item(item: dict):\n",
    "    new_item = item.copy()\n",
    "    new_item['bbox'] = list(item['geometry'].bounds)\n",
    "    new_item.pop('geometry')\n",
    "    return new_item\n",
    "\n",
    "data_ifg = list(map(update_item, data))\n",
    "data_ifg[0]"
   ]
  },
  {
   "cell_type": "code",
   "execution_count": null,
   "id": "7733ae76",
   "metadata": {
    "ExecuteTime": {
     "start_time": "2023-03-07T18:51:27.864Z"
    }
   },
   "outputs": [],
   "source": [
    "AOI_TOKEN = 'California'\n",
    "TRACK_TOKENS = ','.join(list(map(str, track_numbers)))\n",
    "\n",
    "class ifgEncoder(json.JSONEncoder):\n",
    "    def default(self, obj):\n",
    "        if isinstance(obj, datetime.datetime):\n",
    "            return str(obj)\n",
    "\n",
    "json.dump(data_ifg, \n",
    "          open(f'ifg_pair_{AOI_TOKEN}_{TRACK_TOKENS}.json', 'w'),\n",
    "          indent=2,\n",
    "          cls=ifgEncoder\n",
    "         )"
   ]
  },
  {
   "cell_type": "markdown",
   "id": "d3eaca70",
   "metadata": {},
   "source": [
    "# Visualization (optional)\n",
    "\n",
    "\n",
    "We are going to visualize the time series and individual frame coverage below. \n",
    "\n",
    "## Dates in Time-Series"
   ]
  },
  {
   "cell_type": "code",
   "execution_count": null,
   "id": "61d07f68",
   "metadata": {
    "ExecuteTime": {
     "start_time": "2023-03-07T18:51:28.463Z"
    }
   },
   "outputs": [],
   "source": [
    "from s1_frame_enumerator import enumerate_dates\n",
    "import networkx as nx"
   ]
  },
  {
   "cell_type": "code",
   "execution_count": null,
   "id": "21be8ece",
   "metadata": {
    "ExecuteTime": {
     "start_time": "2023-03-07T18:51:28.823Z"
    }
   },
   "outputs": [],
   "source": [
    "unique_dates = df_stack.repeat_pass_date.unique()\n",
    "date_pairs = enumerate_dates(unique_dates, min_temporal_baseline)\n",
    "date_pairs[:3]"
   ]
  },
  {
   "cell_type": "code",
   "execution_count": null,
   "id": "3d0bf162",
   "metadata": {
    "ExecuteTime": {
     "start_time": "2023-03-07T18:51:29.096Z"
    }
   },
   "outputs": [],
   "source": [
    "# Get unique dates\n",
    "unique_dates = sorted(list(set(unique_dates)))\n",
    "\n",
    "# initiate and plot date notes\n",
    "date2node = {date: k for (k, date) in enumerate(unique_dates)}\n",
    "node2date = {k: date for (date, k) in date2node.items()}\n",
    "\n",
    "G = nx.DiGraph()\n",
    "\n",
    "edges = [(date2node[ref_date], date2node[sec_date]) \n",
    "         for (ref_date, sec_date) in date_pairs]\n",
    "G.add_edges_from(edges)"
   ]
  },
  {
   "cell_type": "code",
   "execution_count": null,
   "id": "0073379e",
   "metadata": {
    "ExecuteTime": {
     "start_time": "2023-03-07T18:51:29.432Z"
    }
   },
   "outputs": [],
   "source": [
    "fig, ax = plt.subplots(figsize=(15, 5))\n",
    "\n",
    "increment = [date.month + date.day for date in unique_dates]\n",
    "\n",
    "# source: https://stackoverflow.com/a/27852570\n",
    "scat = ax.scatter(unique_dates, increment)\n",
    "position = scat.get_offsets().data\n",
    "\n",
    "pos = {date2node[date]: position[k] for (k, date) in enumerate(unique_dates)}\n",
    "nx.draw_networkx_edges(G, pos=pos, ax=ax)\n",
    "ax.grid('on')\n",
    "ax.tick_params(axis='x',\n",
    "               which='major',\n",
    "               labelbottom=True,\n",
    "               labelleft=True)\n",
    "ymin, ymax = ax.get_ylim()"
   ]
  },
  {
   "cell_type": "markdown",
   "id": "a4d6fe40",
   "metadata": {},
   "source": [
    "# Image Coverage"
   ]
  },
  {
   "cell_type": "code",
   "execution_count": null,
   "id": "9d216bff",
   "metadata": {
    "ExecuteTime": {
     "start_time": "2023-03-07T18:51:30.055Z"
    }
   },
   "outputs": [],
   "source": [
    "K = 0#100\n",
    "data[K:K+1]"
   ]
  },
  {
   "cell_type": "code",
   "execution_count": null,
   "id": "917fc8c0",
   "metadata": {
    "ExecuteTime": {
     "start_time": "2023-03-07T18:51:30.311Z"
    }
   },
   "outputs": [],
   "source": [
    "df_frame = gpd.GeoDataFrame(data[K:K+1], \n",
    "                            geometry=[data[K]['geometry']],\n",
    "                            crs=CRS.from_epsg(4326))\n",
    "\n",
    "df_ref = df_stack[df_stack.slc_id.isin(data[K]['reference'])].reset_index(drop=True)\n",
    "df_sec = df_stack[df_stack.slc_id.isin(data[K]['secondary'])].reset_index(drop=True)"
   ]
  },
  {
   "cell_type": "code",
   "execution_count": null,
   "id": "6904a44c",
   "metadata": {
    "ExecuteTime": {
     "start_time": "2023-03-07T18:51:30.543Z"
    }
   },
   "outputs": [],
   "source": [
    "fig, ax = plt.subplots(1, 2)\n",
    "\n",
    "df_footprints_gunw = df_gunw[df_gunw.frame_id.isin(df_frame.frame_id.tolist())]\n",
    "\n",
    "for k in range(2):\n",
    "    df_world.plot(ax=ax[k], alpha=.2, color='green')\n",
    "    df_footprints_gunw.boundary.plot(ax=ax[k], color='black')\n",
    "    \n",
    "df_ref.plot(ax=ax[0], alpha=.2, color='blue')\n",
    "df_frame.plot(ax=ax[0], alpha=.5, color='yellow')\n",
    "\n",
    "df_sec.iloc[:4].plot(ax=ax[1], alpha=.2, color='blue')\n",
    "df_frame.plot(ax=ax[1], alpha=.5, color='yellow')\n",
    "\n",
    "xmin, ymin, xmax, ymax = pd.concat([df_ref, df_sec], axis=0).total_bounds\n",
    "\n",
    "for k in range(2):\n",
    "    ax[k].set_ylim(ymin - .5, ymax + .5)\n",
    "    ax[k].set_xlim(xmin - .5, xmax + .5)\n",
    "\n",
    "    \n",
    "ax[0].set_title('Reference SLCs (blue), frame (yellow), \\n and GUNW extent (black)', fontsize=8)\n",
    "ax[1].set_title('Secondary SLCs (blue), frame (yellow), \\n and GUNW extent (black)', fontsize=8)\n"
   ]
  }
 ],
 "metadata": {
  "kernelspec": {
   "display_name": "s1-frame-enumerator",
   "language": "python",
   "name": "s1-frame-enumerator"
  },
  "language_info": {
   "codemirror_mode": {
    "name": "ipython",
    "version": 3
   },
   "file_extension": ".py",
   "mimetype": "text/x-python",
   "name": "python",
   "nbconvert_exporter": "python",
   "pygments_lexer": "ipython3",
   "version": "3.11.0"
  }
 },
 "nbformat": 4,
 "nbformat_minor": 5
}
