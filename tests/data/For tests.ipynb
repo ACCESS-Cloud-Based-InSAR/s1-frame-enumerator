{
 "cells": [
  {
   "cell_type": "code",
   "execution_count": 1,
   "id": "161942a1",
   "metadata": {
    "ExecuteTime": {
     "end_time": "2023-03-07T23:01:34.071475Z",
     "start_time": "2023-03-07T23:01:34.041100Z"
    }
   },
   "outputs": [],
   "source": [
    "%load_ext autoreload\n",
    "%autoreload 2"
   ]
  },
  {
   "cell_type": "markdown",
   "id": "b27c9f26",
   "metadata": {},
   "source": [
    "# Stack"
   ]
  },
  {
   "cell_type": "code",
   "execution_count": 2,
   "id": "a3e5e565",
   "metadata": {
    "ExecuteTime": {
     "end_time": "2023-03-07T23:01:37.484253Z",
     "start_time": "2023-03-07T23:01:36.048673Z"
    }
   },
   "outputs": [],
   "source": [
    "from s1_frame_enumerator import S1Frame, query_slc_metadata_over_frame"
   ]
  },
  {
   "cell_type": "code",
   "execution_count": 22,
   "id": "17ce84ea",
   "metadata": {
    "ExecuteTime": {
     "end_time": "2023-03-08T19:33:56.186814Z",
     "start_time": "2023-03-08T19:33:56.120358Z"
    }
   },
   "outputs": [],
   "source": [
    "from s1_frame_enumerator import S1Frame, query_slc_metadata_over_frame\n",
    "import json"
   ]
  },
  {
   "cell_type": "code",
   "execution_count": 26,
   "id": "435e792a",
   "metadata": {
    "ExecuteTime": {
     "end_time": "2023-03-08T19:39:42.744669Z",
     "start_time": "2023-03-08T19:39:42.581743Z"
    }
   },
   "outputs": [],
   "source": [
    "def generate_mock_data(frame_id):\n",
    "    frame = S1Frame(frame_id)\n",
    "    result = query_slc_metadata_over_frame(frame)\n",
    "    out_path = f'frame_{frame_id}_asf_results.json'\n",
    "    json.dump(result, open(out_path, 'w'))\n",
    "    return out_path"
   ]
  },
  {
   "cell_type": "code",
   "execution_count": 27,
   "id": "7c40cf74",
   "metadata": {
    "ExecuteTime": {
     "end_time": "2023-03-08T19:40:00.980846Z",
     "start_time": "2023-03-08T19:39:43.118380Z"
    }
   },
   "outputs": [
    {
     "data": {
      "text/plain": [
       "'frame_22439_asf_results.json'"
      ]
     },
     "execution_count": 27,
     "metadata": {},
     "output_type": "execute_result"
    }
   ],
   "source": [
    "generate_mock_data(21249)\n",
    "generate_mock_data(22439)\n",
    "generate_mock_data(9847)\n",
    "generate_mock_data(9848)"
   ]
  }
 ],
 "metadata": {
  "kernelspec": {
   "display_name": "s1-frame-enumerator",
   "language": "python",
   "name": "s1-frame-enumerator"
  },
  "language_info": {
   "codemirror_mode": {
    "name": "ipython",
    "version": 3
   },
   "file_extension": ".py",
   "mimetype": "text/x-python",
   "name": "python",
   "nbconvert_exporter": "python",
   "pygments_lexer": "ipython3",
   "version": "3.11.0"
  }
 },
 "nbformat": 4,
 "nbformat_minor": 5
}
